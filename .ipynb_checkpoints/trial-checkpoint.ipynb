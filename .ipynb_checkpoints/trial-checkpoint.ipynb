{
 "cells": [
  {
   "cell_type": "code",
   "execution_count": null,
   "id": "cd1a871f-d98d-409c-bdcc-0cfd7a19cc72",
   "metadata": {},
   "outputs": [],
   "source": [
    "{GradientBoostingClassifier(random_state=42): [['acc', 0.9835], ['f1', np.float64(0.6796116504854369)]], RandomForestClassifier(random_state=42): [['acc', 0.984], ['f1', np.float64(0.6862745098039216)]], AdaBoostClassifier(random_state=42): [['acc', 0.977], ['f1', np.float64(0.5660377358490566)]], DecisionTreeClassifier(random_state=42): [['acc', 0.981], ['f1', np.float64(0.7076923076923077)]], LogisticRegression(random_state=42): [['acc', 0.974], ['f1', np.float64(0.4090909090909091)]], SVC(random_state=42): [['acc', 0.9695], ['f1', np.float64(0.0)]]}"
   ]
  },
  {
   "cell_type": "code",
   "execution_count": 47,
   "id": "7b2ec448-fc9c-46a2-9406-bf0184c00b50",
   "metadata": {},
   "outputs": [
    {
     "name": "stdout",
     "output_type": "stream",
     "text": [
      "0.7076923076923077\n"
     ]
    }
   ],
   "source": [
    "    l  = 0\n",
    "\n",
    "for i,v in d.items():\n",
    "    if l<v[1][1]:\n",
    "        l = v[1][1]\n",
    "print(l)"
   ]
  },
  {
   "cell_type": "code",
   "execution_count": null,
   "id": "26951fd2-48b5-4cb2-b5e2-3a606d3fd8a9",
   "metadata": {},
   "outputs": [],
   "source": [
    "{GradientBoostingClassifier(random_state=42): [['acc', 0.963777490297542], ['f1', np.float64(0.9643221202854231)]], RandomForestClassifier(random_state=42): [['acc', 0.9844760672703752], ['f1', np.float64(0.9845599588265569)]], AdaBoostClassifier(random_state=42): [['acc', 0.9467011642949548], ['f1', np.float64(0.9474221541602859)]], DecisionTreeClassifier(random_state=42): [['acc', 0.9728331177231565], ['f1', np.float64(0.9729032258064516)]], LogisticRegression(random_state=42): [['acc', 0.8369987063389392], ['f1', np.float64(0.8376288659793815)]], SVC(random_state=42): [['acc', 0.8408796895213454], ['f1', np.float64(0.8455162019593067)]]}"
   ]
  },
  {
   "cell_type": "code",
   "execution_count": 76,
   "id": "bfa61916-1ee9-4df3-9c86-dda015755ea6",
   "metadata": {},
   "outputs": [
    {
     "ename": "ImportError",
     "evalue": "cannot import name 'XGBCLASSIFIER' from 'xgboost' (C:\\Users\\Roshan Salunke\\anaconda3\\Lib\\site-packages\\xgboost\\__init__.py)",
     "output_type": "error",
     "traceback": [
      "\u001b[1;31m---------------------------------------------------------------------------\u001b[0m",
      "\u001b[1;31mImportError\u001b[0m                               Traceback (most recent call last)",
      "Cell \u001b[1;32mIn[76], line 14\u001b[0m\n\u001b[0;32m     12\u001b[0m \u001b[38;5;28;01mfrom\u001b[39;00m \u001b[38;5;21;01msklearn\u001b[39;00m\u001b[38;5;21;01m.\u001b[39;00m\u001b[38;5;21;01mmodel_selection\u001b[39;00m \u001b[38;5;28;01mimport\u001b[39;00m train_test_split\n\u001b[0;32m     13\u001b[0m \u001b[38;5;28;01mfrom\u001b[39;00m \u001b[38;5;21;01msklearn\u001b[39;00m\u001b[38;5;21;01m.\u001b[39;00m\u001b[38;5;21;01mmetrics\u001b[39;00m \u001b[38;5;28;01mimport\u001b[39;00m accuracy_score, f1_score, classification_report\n\u001b[1;32m---> 14\u001b[0m \u001b[38;5;28;01mfrom\u001b[39;00m \u001b[38;5;21;01mxgboost\u001b[39;00m \u001b[38;5;28;01mimport\u001b[39;00m XGBCLASSIFIER\n",
      "\u001b[1;31mImportError\u001b[0m: cannot import name 'XGBCLASSIFIER' from 'xgboost' (C:\\Users\\Roshan Salunke\\anaconda3\\Lib\\site-packages\\xgboost\\__init__.py)"
     ]
    }
   ],
   "source": [
    "import pandas as pd\n",
    "import numpy as np\n",
    "from ucimlrepo import fetch_ucirepo \n",
    "import os\n",
    "from sklearn.preprocessing import OneHotEncoder\n",
    "from sklearn.model_selection import train_test_split\n",
    "from imblearn.over_sampling import SMOTE\n",
    "from sklearn.ensemble import GradientBoostingClassifier, RandomForestClassifier, AdaBoostClassifier\n",
    "from sklearn.svm import SVC\n",
    "from sklearn.linear_model import LogisticRegression\n",
    "from sklearn.tree import DecisionTreeClassifier\n",
    "from sklearn.model_selection import train_test_split\n",
    "from sklearn.metrics import accuracy_score, f1_score, classification_report\n",
    "from xgboost  import XGBClassifier"
   ]
  },
  {
   "cell_type": "code",
   "execution_count": 74,
   "id": "f4677265-f0f2-4a8e-a105-08f74ba973db",
   "metadata": {},
   "outputs": [
    {
     "ename": "NameError",
     "evalue": "name 'XGBCLASSIFIER' is not defined",
     "output_type": "error",
     "traceback": [
      "\u001b[1;31m---------------------------------------------------------------------------\u001b[0m",
      "\u001b[1;31mNameError\u001b[0m                                 Traceback (most recent call last)",
      "Cell \u001b[1;32mIn[74], line 3\u001b[0m\n\u001b[0;32m      1\u001b[0m l \u001b[38;5;241m=\u001b[39m [GradientBoostingClassifier(random_state\u001b[38;5;241m=\u001b[39m\u001b[38;5;241m42\u001b[39m), RandomForestClassifier(random_state\u001b[38;5;241m=\u001b[39m\u001b[38;5;241m42\u001b[39m),\n\u001b[0;32m      2\u001b[0m      AdaBoostClassifier(random_state\u001b[38;5;241m=\u001b[39m\u001b[38;5;241m42\u001b[39m), DecisionTreeClassifier(random_state\u001b[38;5;241m=\u001b[39m\u001b[38;5;241m42\u001b[39m),\n\u001b[1;32m----> 3\u001b[0m      LogisticRegression(random_state\u001b[38;5;241m=\u001b[39m\u001b[38;5;241m42\u001b[39m), SVC(random_state\u001b[38;5;241m=\u001b[39m\u001b[38;5;241m42\u001b[39m), XGBCLASSIFIER(random_state\u001b[38;5;241m=\u001b[39m\u001b[38;5;241m42\u001b[39m)]\n\u001b[0;32m      5\u001b[0m ai4i_2020_predictive_maintenance_dataset \u001b[38;5;241m=\u001b[39m fetch_ucirepo(\u001b[38;5;28mid\u001b[39m\u001b[38;5;241m=\u001b[39m\u001b[38;5;241m601\u001b[39m) \n\u001b[0;32m      6\u001b[0m X \u001b[38;5;241m=\u001b[39m ai4i_2020_predictive_maintenance_dataset\u001b[38;5;241m.\u001b[39mdata\u001b[38;5;241m.\u001b[39mfeatures \n",
      "\u001b[1;31mNameError\u001b[0m: name 'XGBCLASSIFIER' is not defined"
     ]
    }
   ],
   "source": [
    "\n",
    "\n",
    "l = [GradientBoostingClassifier(random_state=42), RandomForestClassifier(random_state=42),\n",
    "     AdaBoostClassifier(random_state=42), DecisionTreeClassifier(random_state=42),\n",
    "     LogisticRegression(random_state=42), SVC(random_state=42), XGBCLASSIFIER(random_state=42)]\n",
    "\n",
    "ai4i_2020_predictive_maintenance_dataset = fetch_ucirepo(id=601) \n",
    "X = ai4i_2020_predictive_maintenance_dataset.data.features \n",
    "y = ai4i_2020_predictive_maintenance_dataset.data.targets \n",
    "y = y['Machine failure']\n",
    "\n",
    "one = OneHotEncoder()\n",
    "dfone = pd.DataFrame(one.fit_transform(pd.DataFrame(X['Type'])).toarray(),columns=['H','L','M'])\n",
    "df = pd.concat([X,dfone],axis=1)\n",
    "df.drop('Type',axis=1,inplace=True)\n",
    "\n",
    "\n",
    "\n",
    "x,y = SMOTE().fit_resample(df,y)\n",
    "\n",
    "\n",
    "x_train, x_test, y_train, y_test = train_test_split(x,y, test_size=.2, random_state=42)\n",
    "\n",
    "\n",
    "d = {}\n",
    "\n",
    "def model_building(model_list):\n",
    "    for i in model_list:\n",
    "        i.fit(x_train, y_train)\n",
    "        pred = i.predict(x_test)\n",
    "        print('*'*50)\n",
    "        print(f'classification report of {i}')\n",
    "        print(classification_report(y_test, pred))\n",
    "        \n",
    "        if i not in d:\n",
    "        \n",
    "            d[i] = [['acc',accuracy_score(pred, y_test)],['f1',f1_score(y_test, pred)]]\n",
    "                        \n",
    "    return d\n",
    "\n",
    "        \n",
    "d = model_building(l)\n",
    "    \n",
    "\n"
   ]
  },
  {
   "cell_type": "code",
   "execution_count": 63,
   "id": "2a73e321-1e19-4109-9939-e54532d508b5",
   "metadata": {},
   "outputs": [
    {
     "name": "stdout",
     "output_type": "stream",
     "text": [
      "**************************************************\n",
      "classification report of GradientBoostingClassifier(random_state=42)\n",
      "              precision    recall  f1-score   support\n",
      "\n",
      "           0       0.99      1.00      0.99      1939\n",
      "           1       0.83      0.57      0.68        61\n",
      "\n",
      "    accuracy                           0.98      2000\n",
      "   macro avg       0.91      0.79      0.84      2000\n",
      "weighted avg       0.98      0.98      0.98      2000\n",
      "\n",
      "**************************************************\n",
      "classification report of RandomForestClassifier(random_state=42)\n",
      "              precision    recall  f1-score   support\n",
      "\n",
      "           0       0.99      1.00      0.99      1939\n",
      "           1       0.85      0.57      0.69        61\n",
      "\n",
      "    accuracy                           0.98      2000\n",
      "   macro avg       0.92      0.79      0.84      2000\n",
      "weighted avg       0.98      0.98      0.98      2000\n",
      "\n"
     ]
    },
    {
     "name": "stderr",
     "output_type": "stream",
     "text": [
      "C:\\Users\\Roshan Salunke\\anaconda3\\Lib\\site-packages\\sklearn\\ensemble\\_weight_boosting.py:519: FutureWarning: The SAMME.R algorithm (the default) is deprecated and will be removed in 1.6. Use the SAMME algorithm to circumvent this warning.\n",
      "  warnings.warn(\n"
     ]
    },
    {
     "name": "stdout",
     "output_type": "stream",
     "text": [
      "**************************************************\n",
      "classification report of AdaBoostClassifier(random_state=42)\n",
      "              precision    recall  f1-score   support\n",
      "\n",
      "           0       0.98      0.99      0.99      1939\n",
      "           1       0.67      0.49      0.57        61\n",
      "\n",
      "    accuracy                           0.98      2000\n",
      "   macro avg       0.83      0.74      0.78      2000\n",
      "weighted avg       0.97      0.98      0.98      2000\n",
      "\n",
      "**************************************************\n",
      "classification report of DecisionTreeClassifier(random_state=42)\n",
      "              precision    recall  f1-score   support\n",
      "\n",
      "           0       0.99      0.99      0.99      1939\n",
      "           1       0.67      0.75      0.71        61\n",
      "\n",
      "    accuracy                           0.98      2000\n",
      "   macro avg       0.83      0.87      0.85      2000\n",
      "weighted avg       0.98      0.98      0.98      2000\n",
      "\n",
      "**************************************************\n",
      "classification report of LogisticRegression(random_state=42)\n",
      "              precision    recall  f1-score   support\n",
      "\n",
      "           0       0.98      1.00      0.99      1939\n",
      "           1       0.67      0.30      0.41        61\n",
      "\n",
      "    accuracy                           0.97      2000\n",
      "   macro avg       0.82      0.65      0.70      2000\n",
      "weighted avg       0.97      0.97      0.97      2000\n",
      "\n"
     ]
    },
    {
     "name": "stderr",
     "output_type": "stream",
     "text": [
      "C:\\Users\\Roshan Salunke\\anaconda3\\Lib\\site-packages\\sklearn\\linear_model\\_logistic.py:469: ConvergenceWarning: lbfgs failed to converge (status=1):\n",
      "STOP: TOTAL NO. of ITERATIONS REACHED LIMIT.\n",
      "\n",
      "Increase the number of iterations (max_iter) or scale the data as shown in:\n",
      "    https://scikit-learn.org/stable/modules/preprocessing.html\n",
      "Please also refer to the documentation for alternative solver options:\n",
      "    https://scikit-learn.org/stable/modules/linear_model.html#logistic-regression\n",
      "  n_iter_i = _check_optimize_result(\n"
     ]
    },
    {
     "name": "stdout",
     "output_type": "stream",
     "text": [
      "**************************************************\n",
      "classification report of SVC(random_state=42)\n",
      "              precision    recall  f1-score   support\n",
      "\n",
      "           0       0.97      1.00      0.98      1939\n",
      "           1       0.00      0.00      0.00        61\n",
      "\n",
      "    accuracy                           0.97      2000\n",
      "   macro avg       0.48      0.50      0.49      2000\n",
      "weighted avg       0.94      0.97      0.95      2000\n",
      "\n"
     ]
    },
    {
     "name": "stderr",
     "output_type": "stream",
     "text": [
      "C:\\Users\\Roshan Salunke\\anaconda3\\Lib\\site-packages\\sklearn\\metrics\\_classification.py:1509: UndefinedMetricWarning: Precision is ill-defined and being set to 0.0 in labels with no predicted samples. Use `zero_division` parameter to control this behavior.\n",
      "  _warn_prf(average, modifier, f\"{metric.capitalize()} is\", len(result))\n",
      "C:\\Users\\Roshan Salunke\\anaconda3\\Lib\\site-packages\\sklearn\\metrics\\_classification.py:1509: UndefinedMetricWarning: Precision is ill-defined and being set to 0.0 in labels with no predicted samples. Use `zero_division` parameter to control this behavior.\n",
      "  _warn_prf(average, modifier, f\"{metric.capitalize()} is\", len(result))\n",
      "C:\\Users\\Roshan Salunke\\anaconda3\\Lib\\site-packages\\sklearn\\metrics\\_classification.py:1509: UndefinedMetricWarning: Precision is ill-defined and being set to 0.0 in labels with no predicted samples. Use `zero_division` parameter to control this behavior.\n",
      "  _warn_prf(average, modifier, f\"{metric.capitalize()} is\", len(result))\n"
     ]
    }
   ],
   "source": [
    "\n",
    "\n",
    "l = [GradientBoostingClassifier(random_state=42), RandomForestClassifier(random_state=42),\n",
    "     AdaBoostClassifier(random_state=42), DecisionTreeClassifier(random_state=42),\n",
    "     LogisticRegression(random_state=42), SVC(random_state=42)]\n",
    "\n",
    "ai4i_2020_predictive_maintenance_dataset = fetch_ucirepo(id=601) \n",
    "X = ai4i_2020_predictive_maintenance_dataset.data.features \n",
    "y = ai4i_2020_predictive_maintenance_dataset.data.targets \n",
    "y = y['Machine failure']\n",
    "\n",
    "one = OneHotEncoder()\n",
    "dfone = pd.DataFrame(one.fit_transform(pd.DataFrame(X['Type'])).toarray(),columns=['H','L','M'])\n",
    "df = pd.concat([X,dfone],axis=1)\n",
    "df.drop('Type',axis=1,inplace=True)\n",
    "\n",
    "\n",
    "\n",
    "x_train, x_test, y_train, y_test = train_test_split(df,y, test_size=.2, random_state=42)\n",
    "\n",
    "\n",
    "d = {}\n",
    "\n",
    "def model_building(model_list):\n",
    "    for i in model_list:\n",
    "        i.fit(x_train, y_train)\n",
    "        pred = i.predict(x_test)\n",
    "        print('*'*50)\n",
    "        print(f'classification report of {i}')\n",
    "        print(classification_report(y_test, pred))\n",
    "        \n",
    "        if i not in d:\n",
    "        \n",
    "            d[i] = [['acc',accuracy_score(pred, y_test)],['f1',f1_score(y_test, pred)]]\n",
    "                        \n",
    "    return d\n",
    "\n",
    "        \n",
    "d = model_building(l)\n",
    "    \n",
    "\n"
   ]
  },
  {
   "cell_type": "code",
   "execution_count": 71,
   "id": "3172ead9-65b6-4354-97b2-9d90406f9413",
   "metadata": {},
   "outputs": [
    {
     "ename": "ImportError",
     "evalue": "cannot import name 'XGBCLASSIFIER' from 'xgboost' (C:\\Users\\Roshan Salunke\\anaconda3\\Lib\\site-packages\\xgboost\\__init__.py)",
     "output_type": "error",
     "traceback": [
      "\u001b[1;31m---------------------------------------------------------------------------\u001b[0m",
      "\u001b[1;31mImportError\u001b[0m                               Traceback (most recent call last)",
      "Cell \u001b[1;32mIn[71], line 1\u001b[0m\n\u001b[1;32m----> 1\u001b[0m \u001b[38;5;28;01mfrom\u001b[39;00m \u001b[38;5;21;01mxgboost\u001b[39;00m \u001b[38;5;28;01mimport\u001b[39;00m XGBCLASSIFIER\n",
      "\u001b[1;31mImportError\u001b[0m: cannot import name 'XGBCLASSIFIER' from 'xgboost' (C:\\Users\\Roshan Salunke\\anaconda3\\Lib\\site-packages\\xgboost\\__init__.py)"
     ]
    }
   ],
   "source": []
  },
  {
   "cell_type": "code",
   "execution_count": 78,
   "id": "0f9d9e4a-3e5b-49cf-9dc7-5459ec311ca3",
   "metadata": {},
   "outputs": [],
   "source": [
    "from xgboost  import XGBClassifier"
   ]
  },
  {
   "cell_type": "code",
   "execution_count": null,
   "id": "3e997fb8-8574-4a84-ac7e-1f00b4235c3a",
   "metadata": {},
   "outputs": [],
   "source": []
  }
 ],
 "metadata": {
  "kernelspec": {
   "display_name": "Python 3 (ipykernel)",
   "language": "python",
   "name": "python3"
  },
  "language_info": {
   "codemirror_mode": {
    "name": "ipython",
    "version": 3
   },
   "file_extension": ".py",
   "mimetype": "text/x-python",
   "name": "python",
   "nbconvert_exporter": "python",
   "pygments_lexer": "ipython3",
   "version": "3.12.4"
  }
 },
 "nbformat": 4,
 "nbformat_minor": 5
}
